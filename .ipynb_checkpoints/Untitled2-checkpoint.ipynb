{
 "cells": [
  {
   "cell_type": "markdown",
   "id": "18640a5b",
   "metadata": {},
   "source": [
    "# Pandas Tutorial"
   ]
  },
  {
   "cell_type": "code",
   "execution_count": 2,
   "id": "cc2d019d",
   "metadata": {},
   "outputs": [],
   "source": [
    "import pandas as pd"
   ]
  },
  {
   "cell_type": "code",
   "execution_count": 2,
   "id": "96ce6a49",
   "metadata": {},
   "outputs": [
    {
     "name": "stdout",
     "output_type": "stream",
     "text": [
      "1.3.4\n"
     ]
    }
   ],
   "source": [
    "print(pd.__version__)"
   ]
  },
  {
   "cell_type": "markdown",
   "id": "f3a7b9d5",
   "metadata": {},
   "source": [
    "# Series create, manipulate, query, delete"
   ]
  },
  {
   "cell_type": "code",
   "execution_count": 3,
   "id": "5c23c4fc",
   "metadata": {},
   "outputs": [
    {
     "data": {
      "text/plain": [
       "0    0\n",
       "1    1\n",
       "2    2\n",
       "3    3\n",
       "4    4\n",
       "dtype: int64"
      ]
     },
     "execution_count": 3,
     "metadata": {},
     "output_type": "execute_result"
    }
   ],
   "source": [
    "# Creating a series from List\n",
    "arr = [0, 1, 2, 3, 4]\n",
    "s1 = pd.Series(arr)\n",
    "s1"
   ]
  },
  {
   "cell_type": "code",
   "execution_count": 4,
   "id": "9a4f961e",
   "metadata": {},
   "outputs": [
    {
     "data": {
      "text/plain": [
       "1    0\n",
       "2    1\n",
       "3    2\n",
       "4    3\n",
       "5    4\n",
       "dtype: int64"
      ]
     },
     "execution_count": 4,
     "metadata": {},
     "output_type": "execute_result"
    }
   ],
   "source": [
    "order = [1,2 ,3 ,4 ,5]\n",
    "s2 = pd.Series(arr, index = order)\n",
    "s2"
   ]
  },
  {
   "cell_type": "code",
   "execution_count": 4,
   "id": "62003d0e",
   "metadata": {},
   "outputs": [
    {
     "data": {
      "text/plain": [
       "a   -0.521335\n",
       "b   -0.824461\n",
       "c    0.538000\n",
       "d   -0.000604\n",
       "e    0.741149\n",
       "dtype: float64"
      ]
     },
     "execution_count": 4,
     "metadata": {},
     "output_type": "execute_result"
    }
   ],
   "source": [
    "import numpy as np\n",
    "n = np.random.randn(5)\n",
    "index = ['a','b','c','d','e']\n",
    "\n",
    "s2 = pd.Series(n, index=index)\n",
    "s2"
   ]
  },
  {
   "cell_type": "code",
   "execution_count": 10,
   "id": "43f67c31",
   "metadata": {},
   "outputs": [
    {
     "data": {
      "text/plain": [
       "a    1\n",
       "b    2\n",
       "c    3\n",
       "d    4\n",
       "e    5\n",
       "dtype: int64"
      ]
     },
     "execution_count": 10,
     "metadata": {},
     "output_type": "execute_result"
    }
   ],
   "source": [
    "d = {'a':1, 'b':2, 'c':3,'d':4,'e':5}\n",
    "s3 = pd.Series(d)\n",
    "s3"
   ]
  },
  {
   "cell_type": "code",
   "execution_count": 12,
   "id": "86add804",
   "metadata": {},
   "outputs": [
    {
     "name": "stdout",
     "output_type": "stream",
     "text": [
      "0    0\n",
      "1    1\n",
      "2    2\n",
      "3    3\n",
      "4    4\n",
      "dtype: int64\n"
     ]
    },
    {
     "data": {
      "text/plain": [
       "A    0\n",
       "B    1\n",
       "C    2\n",
       "D    3\n",
       "E    4\n",
       "dtype: int64"
      ]
     },
     "execution_count": 12,
     "metadata": {},
     "output_type": "execute_result"
    }
   ],
   "source": [
    "# you can modify the index of the series\n",
    "print(s1)\n",
    "s1.index = ['A','B','C','D','E']\n",
    "s1"
   ]
  },
  {
   "cell_type": "code",
   "execution_count": 16,
   "id": "bd90abdb",
   "metadata": {},
   "outputs": [
    {
     "data": {
      "text/plain": [
       "D    3\n",
       "E    4\n",
       "dtype: int64"
      ]
     },
     "execution_count": 16,
     "metadata": {},
     "output_type": "execute_result"
    }
   ],
   "source": [
    "# Slicing\n",
    "s1[-2:]"
   ]
  },
  {
   "cell_type": "code",
   "execution_count": 18,
   "id": "639f4a69",
   "metadata": {},
   "outputs": [
    {
     "data": {
      "text/plain": [
       "a    1\n",
       "b    2\n",
       "c    3\n",
       "d    4\n",
       "e    5\n",
       "dtype: int64"
      ]
     },
     "execution_count": 18,
     "metadata": {},
     "output_type": "execute_result"
    }
   ],
   "source": [
    "s3"
   ]
  },
  {
   "cell_type": "code",
   "execution_count": 19,
   "id": "3707362a",
   "metadata": {},
   "outputs": [
    {
     "data": {
      "text/plain": [
       "A    0\n",
       "B    1\n",
       "C    2\n",
       "D    3\n",
       "E    4\n",
       "a    1\n",
       "b    2\n",
       "c    3\n",
       "d    4\n",
       "e    5\n",
       "dtype: int64"
      ]
     },
     "execution_count": 19,
     "metadata": {},
     "output_type": "execute_result"
    }
   ],
   "source": [
    "s4 = s1.append(s3)\n",
    "s4"
   ]
  },
  {
   "cell_type": "code",
   "execution_count": 20,
   "id": "61806337",
   "metadata": {},
   "outputs": [
    {
     "data": {
      "text/plain": [
       "A    0\n",
       "B    1\n",
       "C    2\n",
       "D    3\n",
       "E    4\n",
       "a    1\n",
       "b    2\n",
       "c    3\n",
       "d    4\n",
       "dtype: int64"
      ]
     },
     "execution_count": 20,
     "metadata": {},
     "output_type": "execute_result"
    }
   ],
   "source": [
    "s4.drop('e')"
   ]
  },
  {
   "cell_type": "markdown",
   "id": "4e10674a",
   "metadata": {},
   "source": [
    "# Series Operations"
   ]
  },
  {
   "cell_type": "code",
   "execution_count": 21,
   "id": "88b04119",
   "metadata": {},
   "outputs": [],
   "source": [
    "arr1 = [0, 1, 2, 3, 4, 5, 7]\n",
    "arr2 = [6, 7, 8, 9, 5]"
   ]
  },
  {
   "cell_type": "code",
   "execution_count": 22,
   "id": "5729f2d7",
   "metadata": {},
   "outputs": [
    {
     "data": {
      "text/plain": [
       "0    6\n",
       "1    7\n",
       "2    8\n",
       "3    9\n",
       "4    5\n",
       "dtype: int64"
      ]
     },
     "execution_count": 22,
     "metadata": {},
     "output_type": "execute_result"
    }
   ],
   "source": [
    "s5 = pd.Series(arr2)\n",
    "s5"
   ]
  },
  {
   "cell_type": "code",
   "execution_count": 23,
   "id": "297e1516",
   "metadata": {},
   "outputs": [
    {
     "data": {
      "text/plain": [
       "0    0\n",
       "1    1\n",
       "2    2\n",
       "3    3\n",
       "4    4\n",
       "5    5\n",
       "6    7\n",
       "dtype: int64"
      ]
     },
     "execution_count": 23,
     "metadata": {},
     "output_type": "execute_result"
    }
   ],
   "source": [
    "s6 = pd.Series(arr1)\n",
    "s6"
   ]
  },
  {
   "cell_type": "code",
   "execution_count": 24,
   "id": "0dff3ac2",
   "metadata": {},
   "outputs": [
    {
     "data": {
      "text/plain": [
       "0     6.0\n",
       "1     8.0\n",
       "2    10.0\n",
       "3    12.0\n",
       "4     9.0\n",
       "5     NaN\n",
       "6     NaN\n",
       "dtype: float64"
      ]
     },
     "execution_count": 24,
     "metadata": {},
     "output_type": "execute_result"
    }
   ],
   "source": [
    "s5.add(s6)"
   ]
  },
  {
   "cell_type": "code",
   "execution_count": 25,
   "id": "ebf8de23",
   "metadata": {},
   "outputs": [
    {
     "data": {
      "text/plain": [
       "0    6.0\n",
       "1    6.0\n",
       "2    6.0\n",
       "3    6.0\n",
       "4    1.0\n",
       "5    NaN\n",
       "6    NaN\n",
       "dtype: float64"
      ]
     },
     "execution_count": 25,
     "metadata": {},
     "output_type": "execute_result"
    }
   ],
   "source": [
    "s5.sub(s6)"
   ]
  },
  {
   "cell_type": "code",
   "execution_count": 31,
   "id": "7ad73c41",
   "metadata": {},
   "outputs": [
    {
     "data": {
      "text/plain": [
       "0     0.0\n",
       "1     7.0\n",
       "2    16.0\n",
       "3    27.0\n",
       "4    20.0\n",
       "5     NaN\n",
       "6     NaN\n",
       "dtype: float64"
      ]
     },
     "execution_count": 31,
     "metadata": {},
     "output_type": "execute_result"
    }
   ],
   "source": [
    "s7 = s5.mul(s6)\n",
    "s7"
   ]
  },
  {
   "cell_type": "code",
   "execution_count": 27,
   "id": "78e07435",
   "metadata": {},
   "outputs": [
    {
     "data": {
      "text/plain": [
       "0     inf\n",
       "1    7.00\n",
       "2    4.00\n",
       "3    3.00\n",
       "4    1.25\n",
       "5     NaN\n",
       "6     NaN\n",
       "dtype: float64"
      ]
     },
     "execution_count": 27,
     "metadata": {},
     "output_type": "execute_result"
    }
   ],
   "source": [
    "s5.div(s6)"
   ]
  },
  {
   "cell_type": "code",
   "execution_count": 32,
   "id": "2c9210eb",
   "metadata": {},
   "outputs": [
    {
     "data": {
      "text/plain": [
       "16.0"
      ]
     },
     "execution_count": 32,
     "metadata": {},
     "output_type": "execute_result"
    }
   ],
   "source": [
    "s7.median()"
   ]
  },
  {
   "cell_type": "code",
   "execution_count": 33,
   "id": "d3f90705",
   "metadata": {},
   "outputs": [
    {
     "data": {
      "text/plain": [
       "27.0"
      ]
     },
     "execution_count": 33,
     "metadata": {},
     "output_type": "execute_result"
    }
   ],
   "source": [
    "s7.max()"
   ]
  },
  {
   "cell_type": "code",
   "execution_count": 34,
   "id": "def40b83",
   "metadata": {},
   "outputs": [
    {
     "data": {
      "text/plain": [
       "0.0"
      ]
     },
     "execution_count": 34,
     "metadata": {},
     "output_type": "execute_result"
    }
   ],
   "source": [
    "s7.min()"
   ]
  },
  {
   "cell_type": "markdown",
   "id": "6ab7ca09",
   "metadata": {},
   "source": [
    "# Create Dataframe"
   ]
  },
  {
   "cell_type": "code",
   "execution_count": 6,
   "id": "0d59a152",
   "metadata": {},
   "outputs": [
    {
     "data": {
      "text/html": [
       "<div>\n",
       "<style scoped>\n",
       "    .dataframe tbody tr th:only-of-type {\n",
       "        vertical-align: middle;\n",
       "    }\n",
       "\n",
       "    .dataframe tbody tr th {\n",
       "        vertical-align: top;\n",
       "    }\n",
       "\n",
       "    .dataframe thead th {\n",
       "        text-align: right;\n",
       "    }\n",
       "</style>\n",
       "<table border=\"1\" class=\"dataframe\">\n",
       "  <thead>\n",
       "    <tr style=\"text-align: right;\">\n",
       "      <th></th>\n",
       "      <th>A</th>\n",
       "      <th>B</th>\n",
       "      <th>C</th>\n",
       "      <th>D</th>\n",
       "    </tr>\n",
       "  </thead>\n",
       "  <tbody>\n",
       "    <tr>\n",
       "      <th>2022-05-06 20:57:37.437819</th>\n",
       "      <td>-0.682578</td>\n",
       "      <td>0.328456</td>\n",
       "      <td>-0.008877</td>\n",
       "      <td>1.971077</td>\n",
       "    </tr>\n",
       "    <tr>\n",
       "      <th>2022-05-07 20:57:37.437819</th>\n",
       "      <td>-0.296573</td>\n",
       "      <td>-0.333230</td>\n",
       "      <td>1.249513</td>\n",
       "      <td>0.421419</td>\n",
       "    </tr>\n",
       "    <tr>\n",
       "      <th>2022-05-08 20:57:37.437819</th>\n",
       "      <td>0.530379</td>\n",
       "      <td>-0.076247</td>\n",
       "      <td>1.191235</td>\n",
       "      <td>0.353051</td>\n",
       "    </tr>\n",
       "    <tr>\n",
       "      <th>2022-05-09 20:57:37.437819</th>\n",
       "      <td>0.086238</td>\n",
       "      <td>-1.001780</td>\n",
       "      <td>1.472367</td>\n",
       "      <td>-1.425053</td>\n",
       "    </tr>\n",
       "    <tr>\n",
       "      <th>2022-05-10 20:57:37.437819</th>\n",
       "      <td>-0.095446</td>\n",
       "      <td>2.765548</td>\n",
       "      <td>-1.702394</td>\n",
       "      <td>-0.595491</td>\n",
       "    </tr>\n",
       "    <tr>\n",
       "      <th>2022-05-11 20:57:37.437819</th>\n",
       "      <td>-0.850764</td>\n",
       "      <td>-2.796221</td>\n",
       "      <td>-0.103568</td>\n",
       "      <td>0.068409</td>\n",
       "    </tr>\n",
       "  </tbody>\n",
       "</table>\n",
       "</div>"
      ],
      "text/plain": [
       "                                   A         B         C         D\n",
       "2022-05-06 20:57:37.437819 -0.682578  0.328456 -0.008877  1.971077\n",
       "2022-05-07 20:57:37.437819 -0.296573 -0.333230  1.249513  0.421419\n",
       "2022-05-08 20:57:37.437819  0.530379 -0.076247  1.191235  0.353051\n",
       "2022-05-09 20:57:37.437819  0.086238 -1.001780  1.472367 -1.425053\n",
       "2022-05-10 20:57:37.437819 -0.095446  2.765548 -1.702394 -0.595491\n",
       "2022-05-11 20:57:37.437819 -0.850764 -2.796221 -0.103568  0.068409"
      ]
     },
     "execution_count": 6,
     "metadata": {},
     "output_type": "execute_result"
    }
   ],
   "source": [
    "dates = pd.date_range('today',periods=6)\n",
    "num_arr = np.random.randn(6, 4)\n",
    "columns = ['A', 'B', 'C', 'D']\n",
    "df1 = pd.DataFrame(num_arr, index = dates, columns  = columns)\n",
    "df1"
   ]
  },
  {
   "cell_type": "code",
   "execution_count": 7,
   "id": "d1330cc6",
   "metadata": {},
   "outputs": [
    {
     "data": {
      "text/html": [
       "<div>\n",
       "<style scoped>\n",
       "    .dataframe tbody tr th:only-of-type {\n",
       "        vertical-align: middle;\n",
       "    }\n",
       "\n",
       "    .dataframe tbody tr th {\n",
       "        vertical-align: top;\n",
       "    }\n",
       "\n",
       "    .dataframe thead th {\n",
       "        text-align: right;\n",
       "    }\n",
       "</style>\n",
       "<table border=\"1\" class=\"dataframe\">\n",
       "  <thead>\n",
       "    <tr style=\"text-align: right;\">\n",
       "      <th></th>\n",
       "      <th>2022-05-06 20:57:37.437819</th>\n",
       "      <th>2022-05-07 20:57:37.437819</th>\n",
       "      <th>2022-05-08 20:57:37.437819</th>\n",
       "      <th>2022-05-09 20:57:37.437819</th>\n",
       "      <th>2022-05-10 20:57:37.437819</th>\n",
       "      <th>2022-05-11 20:57:37.437819</th>\n",
       "    </tr>\n",
       "  </thead>\n",
       "  <tbody>\n",
       "    <tr>\n",
       "      <th>A</th>\n",
       "      <td>-0.682578</td>\n",
       "      <td>-0.296573</td>\n",
       "      <td>0.530379</td>\n",
       "      <td>0.086238</td>\n",
       "      <td>-0.095446</td>\n",
       "      <td>-0.850764</td>\n",
       "    </tr>\n",
       "    <tr>\n",
       "      <th>B</th>\n",
       "      <td>0.328456</td>\n",
       "      <td>-0.333230</td>\n",
       "      <td>-0.076247</td>\n",
       "      <td>-1.001780</td>\n",
       "      <td>2.765548</td>\n",
       "      <td>-2.796221</td>\n",
       "    </tr>\n",
       "    <tr>\n",
       "      <th>C</th>\n",
       "      <td>-0.008877</td>\n",
       "      <td>1.249513</td>\n",
       "      <td>1.191235</td>\n",
       "      <td>1.472367</td>\n",
       "      <td>-1.702394</td>\n",
       "      <td>-0.103568</td>\n",
       "    </tr>\n",
       "    <tr>\n",
       "      <th>D</th>\n",
       "      <td>1.971077</td>\n",
       "      <td>0.421419</td>\n",
       "      <td>0.353051</td>\n",
       "      <td>-1.425053</td>\n",
       "      <td>-0.595491</td>\n",
       "      <td>0.068409</td>\n",
       "    </tr>\n",
       "  </tbody>\n",
       "</table>\n",
       "</div>"
      ],
      "text/plain": [
       "   2022-05-06 20:57:37.437819  2022-05-07 20:57:37.437819  \\\n",
       "A                   -0.682578                   -0.296573   \n",
       "B                    0.328456                   -0.333230   \n",
       "C                   -0.008877                    1.249513   \n",
       "D                    1.971077                    0.421419   \n",
       "\n",
       "   2022-05-08 20:57:37.437819  2022-05-09 20:57:37.437819  \\\n",
       "A                    0.530379                    0.086238   \n",
       "B                   -0.076247                   -1.001780   \n",
       "C                    1.191235                    1.472367   \n",
       "D                    0.353051                   -1.425053   \n",
       "\n",
       "   2022-05-10 20:57:37.437819  2022-05-11 20:57:37.437819  \n",
       "A                   -0.095446                   -0.850764  \n",
       "B                    2.765548                   -2.796221  \n",
       "C                   -1.702394                   -0.103568  \n",
       "D                   -0.595491                    0.068409  "
      ]
     },
     "execution_count": 7,
     "metadata": {},
     "output_type": "execute_result"
    }
   ],
   "source": [
    "df1.T"
   ]
  },
  {
   "cell_type": "code",
   "execution_count": 8,
   "id": "de210672",
   "metadata": {},
   "outputs": [
    {
     "data": {
      "text/plain": [
       "DatetimeIndex(['2022-05-06 20:57:37.437819', '2022-05-07 20:57:37.437819',\n",
       "               '2022-05-08 20:57:37.437819', '2022-05-09 20:57:37.437819',\n",
       "               '2022-05-10 20:57:37.437819', '2022-05-11 20:57:37.437819'],\n",
       "              dtype='datetime64[ns]', freq='D')"
      ]
     },
     "execution_count": 8,
     "metadata": {},
     "output_type": "execute_result"
    }
   ],
   "source": [
    "df1.index"
   ]
  },
  {
   "cell_type": "code",
   "execution_count": 9,
   "id": "831aae4c",
   "metadata": {},
   "outputs": [
    {
     "data": {
      "text/plain": [
       "Index(['A', 'B', 'C', 'D'], dtype='object')"
      ]
     },
     "execution_count": 9,
     "metadata": {},
     "output_type": "execute_result"
    }
   ],
   "source": [
    "df1.columns"
   ]
  },
  {
   "cell_type": "code",
   "execution_count": 10,
   "id": "cd501291",
   "metadata": {},
   "outputs": [
    {
     "data": {
      "text/plain": [
       "array([[-0.68257769,  0.32845611, -0.00887682,  1.97107683],\n",
       "       [-0.29657321, -0.33323044,  1.24951315,  0.42141911],\n",
       "       [ 0.53037853, -0.07624664,  1.19123502,  0.35305124],\n",
       "       [ 0.08623801, -1.00177966,  1.47236695, -1.42505298],\n",
       "       [-0.09544633,  2.76554762, -1.70239441, -0.59549093],\n",
       "       [-0.85076391, -2.79622145, -0.10356806,  0.06840885]])"
      ]
     },
     "execution_count": 10,
     "metadata": {},
     "output_type": "execute_result"
    }
   ],
   "source": [
    "df1.values"
   ]
  },
  {
   "cell_type": "code",
   "execution_count": 11,
   "id": "4cab4fe0",
   "metadata": {},
   "outputs": [
    {
     "data": {
      "text/html": [
       "<div>\n",
       "<style scoped>\n",
       "    .dataframe tbody tr th:only-of-type {\n",
       "        vertical-align: middle;\n",
       "    }\n",
       "\n",
       "    .dataframe tbody tr th {\n",
       "        vertical-align: top;\n",
       "    }\n",
       "\n",
       "    .dataframe thead th {\n",
       "        text-align: right;\n",
       "    }\n",
       "</style>\n",
       "<table border=\"1\" class=\"dataframe\">\n",
       "  <thead>\n",
       "    <tr style=\"text-align: right;\">\n",
       "      <th></th>\n",
       "      <th>A</th>\n",
       "      <th>B</th>\n",
       "      <th>C</th>\n",
       "      <th>D</th>\n",
       "    </tr>\n",
       "  </thead>\n",
       "  <tbody>\n",
       "    <tr>\n",
       "      <th>2022-05-06 20:57:37.437819</th>\n",
       "      <td>-0.682578</td>\n",
       "      <td>0.328456</td>\n",
       "      <td>-0.008877</td>\n",
       "      <td>1.971077</td>\n",
       "    </tr>\n",
       "    <tr>\n",
       "      <th>2022-05-07 20:57:37.437819</th>\n",
       "      <td>-0.296573</td>\n",
       "      <td>-0.333230</td>\n",
       "      <td>1.249513</td>\n",
       "      <td>0.421419</td>\n",
       "    </tr>\n",
       "    <tr>\n",
       "      <th>2022-05-08 20:57:37.437819</th>\n",
       "      <td>0.530379</td>\n",
       "      <td>-0.076247</td>\n",
       "      <td>1.191235</td>\n",
       "      <td>0.353051</td>\n",
       "    </tr>\n",
       "    <tr>\n",
       "      <th>2022-05-09 20:57:37.437819</th>\n",
       "      <td>0.086238</td>\n",
       "      <td>-1.001780</td>\n",
       "      <td>1.472367</td>\n",
       "      <td>-1.425053</td>\n",
       "    </tr>\n",
       "    <tr>\n",
       "      <th>2022-05-10 20:57:37.437819</th>\n",
       "      <td>-0.095446</td>\n",
       "      <td>2.765548</td>\n",
       "      <td>-1.702394</td>\n",
       "      <td>-0.595491</td>\n",
       "    </tr>\n",
       "  </tbody>\n",
       "</table>\n",
       "</div>"
      ],
      "text/plain": [
       "                                   A         B         C         D\n",
       "2022-05-06 20:57:37.437819 -0.682578  0.328456 -0.008877  1.971077\n",
       "2022-05-07 20:57:37.437819 -0.296573 -0.333230  1.249513  0.421419\n",
       "2022-05-08 20:57:37.437819  0.530379 -0.076247  1.191235  0.353051\n",
       "2022-05-09 20:57:37.437819  0.086238 -1.001780  1.472367 -1.425053\n",
       "2022-05-10 20:57:37.437819 -0.095446  2.765548 -1.702394 -0.595491"
      ]
     },
     "execution_count": 11,
     "metadata": {},
     "output_type": "execute_result"
    }
   ],
   "source": [
    "df1.head()"
   ]
  },
  {
   "cell_type": "code",
   "execution_count": 12,
   "id": "cf763cf0",
   "metadata": {},
   "outputs": [
    {
     "data": {
      "text/html": [
       "<div>\n",
       "<style scoped>\n",
       "    .dataframe tbody tr th:only-of-type {\n",
       "        vertical-align: middle;\n",
       "    }\n",
       "\n",
       "    .dataframe tbody tr th {\n",
       "        vertical-align: top;\n",
       "    }\n",
       "\n",
       "    .dataframe thead th {\n",
       "        text-align: right;\n",
       "    }\n",
       "</style>\n",
       "<table border=\"1\" class=\"dataframe\">\n",
       "  <thead>\n",
       "    <tr style=\"text-align: right;\">\n",
       "      <th></th>\n",
       "      <th>A</th>\n",
       "      <th>B</th>\n",
       "      <th>C</th>\n",
       "      <th>D</th>\n",
       "    </tr>\n",
       "  </thead>\n",
       "  <tbody>\n",
       "    <tr>\n",
       "      <th>2022-05-07 20:57:37.437819</th>\n",
       "      <td>-0.296573</td>\n",
       "      <td>-0.333230</td>\n",
       "      <td>1.249513</td>\n",
       "      <td>0.421419</td>\n",
       "    </tr>\n",
       "    <tr>\n",
       "      <th>2022-05-08 20:57:37.437819</th>\n",
       "      <td>0.530379</td>\n",
       "      <td>-0.076247</td>\n",
       "      <td>1.191235</td>\n",
       "      <td>0.353051</td>\n",
       "    </tr>\n",
       "    <tr>\n",
       "      <th>2022-05-09 20:57:37.437819</th>\n",
       "      <td>0.086238</td>\n",
       "      <td>-1.001780</td>\n",
       "      <td>1.472367</td>\n",
       "      <td>-1.425053</td>\n",
       "    </tr>\n",
       "    <tr>\n",
       "      <th>2022-05-10 20:57:37.437819</th>\n",
       "      <td>-0.095446</td>\n",
       "      <td>2.765548</td>\n",
       "      <td>-1.702394</td>\n",
       "      <td>-0.595491</td>\n",
       "    </tr>\n",
       "    <tr>\n",
       "      <th>2022-05-11 20:57:37.437819</th>\n",
       "      <td>-0.850764</td>\n",
       "      <td>-2.796221</td>\n",
       "      <td>-0.103568</td>\n",
       "      <td>0.068409</td>\n",
       "    </tr>\n",
       "  </tbody>\n",
       "</table>\n",
       "</div>"
      ],
      "text/plain": [
       "                                   A         B         C         D\n",
       "2022-05-07 20:57:37.437819 -0.296573 -0.333230  1.249513  0.421419\n",
       "2022-05-08 20:57:37.437819  0.530379 -0.076247  1.191235  0.353051\n",
       "2022-05-09 20:57:37.437819  0.086238 -1.001780  1.472367 -1.425053\n",
       "2022-05-10 20:57:37.437819 -0.095446  2.765548 -1.702394 -0.595491\n",
       "2022-05-11 20:57:37.437819 -0.850764 -2.796221 -0.103568  0.068409"
      ]
     },
     "execution_count": 12,
     "metadata": {},
     "output_type": "execute_result"
    }
   ],
   "source": [
    "df1.tail()"
   ]
  },
  {
   "cell_type": "code",
   "execution_count": 13,
   "id": "35c3cb00",
   "metadata": {},
   "outputs": [
    {
     "data": {
      "text/html": [
       "<div>\n",
       "<style scoped>\n",
       "    .dataframe tbody tr th:only-of-type {\n",
       "        vertical-align: middle;\n",
       "    }\n",
       "\n",
       "    .dataframe tbody tr th {\n",
       "        vertical-align: top;\n",
       "    }\n",
       "\n",
       "    .dataframe thead th {\n",
       "        text-align: right;\n",
       "    }\n",
       "</style>\n",
       "<table border=\"1\" class=\"dataframe\">\n",
       "  <thead>\n",
       "    <tr style=\"text-align: right;\">\n",
       "      <th></th>\n",
       "      <th>A</th>\n",
       "      <th>B</th>\n",
       "      <th>C</th>\n",
       "      <th>D</th>\n",
       "    </tr>\n",
       "  </thead>\n",
       "  <tbody>\n",
       "    <tr>\n",
       "      <th>count</th>\n",
       "      <td>6.000000</td>\n",
       "      <td>6.000000</td>\n",
       "      <td>6.000000</td>\n",
       "      <td>6.000000</td>\n",
       "    </tr>\n",
       "    <tr>\n",
       "      <th>mean</th>\n",
       "      <td>-0.218124</td>\n",
       "      <td>-0.185579</td>\n",
       "      <td>0.349713</td>\n",
       "      <td>0.132235</td>\n",
       "    </tr>\n",
       "    <tr>\n",
       "      <th>std</th>\n",
       "      <td>0.507946</td>\n",
       "      <td>1.815972</td>\n",
       "      <td>1.210235</td>\n",
       "      <td>1.137764</td>\n",
       "    </tr>\n",
       "    <tr>\n",
       "      <th>min</th>\n",
       "      <td>-0.850764</td>\n",
       "      <td>-2.796221</td>\n",
       "      <td>-1.702394</td>\n",
       "      <td>-1.425053</td>\n",
       "    </tr>\n",
       "    <tr>\n",
       "      <th>25%</th>\n",
       "      <td>-0.586077</td>\n",
       "      <td>-0.834642</td>\n",
       "      <td>-0.079895</td>\n",
       "      <td>-0.429516</td>\n",
       "    </tr>\n",
       "    <tr>\n",
       "      <th>50%</th>\n",
       "      <td>-0.196010</td>\n",
       "      <td>-0.204739</td>\n",
       "      <td>0.591179</td>\n",
       "      <td>0.210730</td>\n",
       "    </tr>\n",
       "    <tr>\n",
       "      <th>75%</th>\n",
       "      <td>0.040817</td>\n",
       "      <td>0.227280</td>\n",
       "      <td>1.234944</td>\n",
       "      <td>0.404327</td>\n",
       "    </tr>\n",
       "    <tr>\n",
       "      <th>max</th>\n",
       "      <td>0.530379</td>\n",
       "      <td>2.765548</td>\n",
       "      <td>1.472367</td>\n",
       "      <td>1.971077</td>\n",
       "    </tr>\n",
       "  </tbody>\n",
       "</table>\n",
       "</div>"
      ],
      "text/plain": [
       "              A         B         C         D\n",
       "count  6.000000  6.000000  6.000000  6.000000\n",
       "mean  -0.218124 -0.185579  0.349713  0.132235\n",
       "std    0.507946  1.815972  1.210235  1.137764\n",
       "min   -0.850764 -2.796221 -1.702394 -1.425053\n",
       "25%   -0.586077 -0.834642 -0.079895 -0.429516\n",
       "50%   -0.196010 -0.204739  0.591179  0.210730\n",
       "75%    0.040817  0.227280  1.234944  0.404327\n",
       "max    0.530379  2.765548  1.472367  1.971077"
      ]
     },
     "execution_count": 13,
     "metadata": {},
     "output_type": "execute_result"
    }
   ],
   "source": [
    "df1.describe()"
   ]
  },
  {
   "cell_type": "code",
   "execution_count": 15,
   "id": "c67f10f0",
   "metadata": {},
   "outputs": [
    {
     "data": {
      "text/html": [
       "<div>\n",
       "<style scoped>\n",
       "    .dataframe tbody tr th:only-of-type {\n",
       "        vertical-align: middle;\n",
       "    }\n",
       "\n",
       "    .dataframe tbody tr th {\n",
       "        vertical-align: top;\n",
       "    }\n",
       "\n",
       "    .dataframe thead th {\n",
       "        text-align: right;\n",
       "    }\n",
       "</style>\n",
       "<table border=\"1\" class=\"dataframe\">\n",
       "  <thead>\n",
       "    <tr style=\"text-align: right;\">\n",
       "      <th></th>\n",
       "      <th>A</th>\n",
       "      <th>B</th>\n",
       "      <th>C</th>\n",
       "      <th>D</th>\n",
       "    </tr>\n",
       "  </thead>\n",
       "  <tbody>\n",
       "    <tr>\n",
       "      <th>2022-05-11 20:57:37.437819</th>\n",
       "      <td>-0.850764</td>\n",
       "      <td>-2.796221</td>\n",
       "      <td>-0.103568</td>\n",
       "      <td>0.068409</td>\n",
       "    </tr>\n",
       "    <tr>\n",
       "      <th>2022-05-06 20:57:37.437819</th>\n",
       "      <td>-0.682578</td>\n",
       "      <td>0.328456</td>\n",
       "      <td>-0.008877</td>\n",
       "      <td>1.971077</td>\n",
       "    </tr>\n",
       "    <tr>\n",
       "      <th>2022-05-07 20:57:37.437819</th>\n",
       "      <td>-0.296573</td>\n",
       "      <td>-0.333230</td>\n",
       "      <td>1.249513</td>\n",
       "      <td>0.421419</td>\n",
       "    </tr>\n",
       "    <tr>\n",
       "      <th>2022-05-10 20:57:37.437819</th>\n",
       "      <td>-0.095446</td>\n",
       "      <td>2.765548</td>\n",
       "      <td>-1.702394</td>\n",
       "      <td>-0.595491</td>\n",
       "    </tr>\n",
       "    <tr>\n",
       "      <th>2022-05-09 20:57:37.437819</th>\n",
       "      <td>0.086238</td>\n",
       "      <td>-1.001780</td>\n",
       "      <td>1.472367</td>\n",
       "      <td>-1.425053</td>\n",
       "    </tr>\n",
       "    <tr>\n",
       "      <th>2022-05-08 20:57:37.437819</th>\n",
       "      <td>0.530379</td>\n",
       "      <td>-0.076247</td>\n",
       "      <td>1.191235</td>\n",
       "      <td>0.353051</td>\n",
       "    </tr>\n",
       "  </tbody>\n",
       "</table>\n",
       "</div>"
      ],
      "text/plain": [
       "                                   A         B         C         D\n",
       "2022-05-11 20:57:37.437819 -0.850764 -2.796221 -0.103568  0.068409\n",
       "2022-05-06 20:57:37.437819 -0.682578  0.328456 -0.008877  1.971077\n",
       "2022-05-07 20:57:37.437819 -0.296573 -0.333230  1.249513  0.421419\n",
       "2022-05-10 20:57:37.437819 -0.095446  2.765548 -1.702394 -0.595491\n",
       "2022-05-09 20:57:37.437819  0.086238 -1.001780  1.472367 -1.425053\n",
       "2022-05-08 20:57:37.437819  0.530379 -0.076247  1.191235  0.353051"
      ]
     },
     "execution_count": 15,
     "metadata": {},
     "output_type": "execute_result"
    }
   ],
   "source": [
    "df1.sort_values(by = 'A')"
   ]
  },
  {
   "cell_type": "code",
   "execution_count": 18,
   "id": "cc02bfab",
   "metadata": {},
   "outputs": [
    {
     "data": {
      "text/html": [
       "<div>\n",
       "<style scoped>\n",
       "    .dataframe tbody tr th:only-of-type {\n",
       "        vertical-align: middle;\n",
       "    }\n",
       "\n",
       "    .dataframe tbody tr th {\n",
       "        vertical-align: top;\n",
       "    }\n",
       "\n",
       "    .dataframe thead th {\n",
       "        text-align: right;\n",
       "    }\n",
       "</style>\n",
       "<table border=\"1\" class=\"dataframe\">\n",
       "  <thead>\n",
       "    <tr style=\"text-align: right;\">\n",
       "      <th></th>\n",
       "      <th>A</th>\n",
       "      <th>B</th>\n",
       "      <th>C</th>\n",
       "      <th>D</th>\n",
       "    </tr>\n",
       "  </thead>\n",
       "  <tbody>\n",
       "    <tr>\n",
       "      <th>2022-05-07 20:57:37.437819</th>\n",
       "      <td>-0.296573</td>\n",
       "      <td>-0.333230</td>\n",
       "      <td>1.249513</td>\n",
       "      <td>0.421419</td>\n",
       "    </tr>\n",
       "    <tr>\n",
       "      <th>2022-05-08 20:57:37.437819</th>\n",
       "      <td>0.530379</td>\n",
       "      <td>-0.076247</td>\n",
       "      <td>1.191235</td>\n",
       "      <td>0.353051</td>\n",
       "    </tr>\n",
       "  </tbody>\n",
       "</table>\n",
       "</div>"
      ],
      "text/plain": [
       "                                   A         B         C         D\n",
       "2022-05-07 20:57:37.437819 -0.296573 -0.333230  1.249513  0.421419\n",
       "2022-05-08 20:57:37.437819  0.530379 -0.076247  1.191235  0.353051"
      ]
     },
     "execution_count": 18,
     "metadata": {},
     "output_type": "execute_result"
    }
   ],
   "source": [
    "df1[1:3]"
   ]
  },
  {
   "cell_type": "code",
   "execution_count": 20,
   "id": "41046113",
   "metadata": {},
   "outputs": [
    {
     "data": {
      "text/html": [
       "<div>\n",
       "<style scoped>\n",
       "    .dataframe tbody tr th:only-of-type {\n",
       "        vertical-align: middle;\n",
       "    }\n",
       "\n",
       "    .dataframe tbody tr th {\n",
       "        vertical-align: top;\n",
       "    }\n",
       "\n",
       "    .dataframe thead th {\n",
       "        text-align: right;\n",
       "    }\n",
       "</style>\n",
       "<table border=\"1\" class=\"dataframe\">\n",
       "  <thead>\n",
       "    <tr style=\"text-align: right;\">\n",
       "      <th></th>\n",
       "      <th>A</th>\n",
       "      <th>B</th>\n",
       "      <th>C</th>\n",
       "      <th>D</th>\n",
       "    </tr>\n",
       "  </thead>\n",
       "  <tbody>\n",
       "    <tr>\n",
       "      <th>2022-05-06 20:57:37.437819</th>\n",
       "      <td>-0.682578</td>\n",
       "      <td>0.328456</td>\n",
       "      <td>-0.008877</td>\n",
       "      <td>1.971077</td>\n",
       "    </tr>\n",
       "    <tr>\n",
       "      <th>2022-05-07 20:57:37.437819</th>\n",
       "      <td>-0.296573</td>\n",
       "      <td>-0.333230</td>\n",
       "      <td>1.249513</td>\n",
       "      <td>0.421419</td>\n",
       "    </tr>\n",
       "  </tbody>\n",
       "</table>\n",
       "</div>"
      ],
      "text/plain": [
       "                                   A         B         C         D\n",
       "2022-05-06 20:57:37.437819 -0.682578  0.328456 -0.008877  1.971077\n",
       "2022-05-07 20:57:37.437819 -0.296573 -0.333230  1.249513  0.421419"
      ]
     },
     "execution_count": 20,
     "metadata": {},
     "output_type": "execute_result"
    }
   ],
   "source": [
    "df1.sort_values(by = 'A')[1:3]"
   ]
  },
  {
   "cell_type": "code",
   "execution_count": 21,
   "id": "b0262a75",
   "metadata": {},
   "outputs": [
    {
     "data": {
      "text/html": [
       "<div>\n",
       "<style scoped>\n",
       "    .dataframe tbody tr th:only-of-type {\n",
       "        vertical-align: middle;\n",
       "    }\n",
       "\n",
       "    .dataframe tbody tr th {\n",
       "        vertical-align: top;\n",
       "    }\n",
       "\n",
       "    .dataframe thead th {\n",
       "        text-align: right;\n",
       "    }\n",
       "</style>\n",
       "<table border=\"1\" class=\"dataframe\">\n",
       "  <thead>\n",
       "    <tr style=\"text-align: right;\">\n",
       "      <th></th>\n",
       "      <th>A</th>\n",
       "      <th>B</th>\n",
       "    </tr>\n",
       "  </thead>\n",
       "  <tbody>\n",
       "    <tr>\n",
       "      <th>2022-05-06 20:57:37.437819</th>\n",
       "      <td>-0.682578</td>\n",
       "      <td>0.328456</td>\n",
       "    </tr>\n",
       "    <tr>\n",
       "      <th>2022-05-07 20:57:37.437819</th>\n",
       "      <td>-0.296573</td>\n",
       "      <td>-0.333230</td>\n",
       "    </tr>\n",
       "    <tr>\n",
       "      <th>2022-05-08 20:57:37.437819</th>\n",
       "      <td>0.530379</td>\n",
       "      <td>-0.076247</td>\n",
       "    </tr>\n",
       "    <tr>\n",
       "      <th>2022-05-09 20:57:37.437819</th>\n",
       "      <td>0.086238</td>\n",
       "      <td>-1.001780</td>\n",
       "    </tr>\n",
       "    <tr>\n",
       "      <th>2022-05-10 20:57:37.437819</th>\n",
       "      <td>-0.095446</td>\n",
       "      <td>2.765548</td>\n",
       "    </tr>\n",
       "    <tr>\n",
       "      <th>2022-05-11 20:57:37.437819</th>\n",
       "      <td>-0.850764</td>\n",
       "      <td>-2.796221</td>\n",
       "    </tr>\n",
       "  </tbody>\n",
       "</table>\n",
       "</div>"
      ],
      "text/plain": [
       "                                   A         B\n",
       "2022-05-06 20:57:37.437819 -0.682578  0.328456\n",
       "2022-05-07 20:57:37.437819 -0.296573 -0.333230\n",
       "2022-05-08 20:57:37.437819  0.530379 -0.076247\n",
       "2022-05-09 20:57:37.437819  0.086238 -1.001780\n",
       "2022-05-10 20:57:37.437819 -0.095446  2.765548\n",
       "2022-05-11 20:57:37.437819 -0.850764 -2.796221"
      ]
     },
     "execution_count": 21,
     "metadata": {},
     "output_type": "execute_result"
    }
   ],
   "source": [
    "df1[['A','B']]"
   ]
  },
  {
   "cell_type": "code",
   "execution_count": 22,
   "id": "9860ec96",
   "metadata": {},
   "outputs": [
    {
     "data": {
      "text/html": [
       "<div>\n",
       "<style scoped>\n",
       "    .dataframe tbody tr th:only-of-type {\n",
       "        vertical-align: middle;\n",
       "    }\n",
       "\n",
       "    .dataframe tbody tr th {\n",
       "        vertical-align: top;\n",
       "    }\n",
       "\n",
       "    .dataframe thead th {\n",
       "        text-align: right;\n",
       "    }\n",
       "</style>\n",
       "<table border=\"1\" class=\"dataframe\">\n",
       "  <thead>\n",
       "    <tr style=\"text-align: right;\">\n",
       "      <th></th>\n",
       "      <th>A</th>\n",
       "      <th>B</th>\n",
       "      <th>C</th>\n",
       "      <th>D</th>\n",
       "    </tr>\n",
       "  </thead>\n",
       "  <tbody>\n",
       "    <tr>\n",
       "      <th>2022-05-07 20:57:37.437819</th>\n",
       "      <td>-0.296573</td>\n",
       "      <td>-0.333230</td>\n",
       "      <td>1.249513</td>\n",
       "      <td>0.421419</td>\n",
       "    </tr>\n",
       "    <tr>\n",
       "      <th>2022-05-08 20:57:37.437819</th>\n",
       "      <td>0.530379</td>\n",
       "      <td>-0.076247</td>\n",
       "      <td>1.191235</td>\n",
       "      <td>0.353051</td>\n",
       "    </tr>\n",
       "  </tbody>\n",
       "</table>\n",
       "</div>"
      ],
      "text/plain": [
       "                                   A         B         C         D\n",
       "2022-05-07 20:57:37.437819 -0.296573 -0.333230  1.249513  0.421419\n",
       "2022-05-08 20:57:37.437819  0.530379 -0.076247  1.191235  0.353051"
      ]
     },
     "execution_count": 22,
     "metadata": {},
     "output_type": "execute_result"
    }
   ],
   "source": [
    "df1.iloc[1:3]"
   ]
  },
  {
   "cell_type": "code",
   "execution_count": 23,
   "id": "5ec460bb",
   "metadata": {},
   "outputs": [
    {
     "data": {
      "text/html": [
       "<div>\n",
       "<style scoped>\n",
       "    .dataframe tbody tr th:only-of-type {\n",
       "        vertical-align: middle;\n",
       "    }\n",
       "\n",
       "    .dataframe tbody tr th {\n",
       "        vertical-align: top;\n",
       "    }\n",
       "\n",
       "    .dataframe thead th {\n",
       "        text-align: right;\n",
       "    }\n",
       "</style>\n",
       "<table border=\"1\" class=\"dataframe\">\n",
       "  <thead>\n",
       "    <tr style=\"text-align: right;\">\n",
       "      <th></th>\n",
       "      <th>A</th>\n",
       "      <th>B</th>\n",
       "      <th>C</th>\n",
       "      <th>D</th>\n",
       "    </tr>\n",
       "  </thead>\n",
       "  <tbody>\n",
       "    <tr>\n",
       "      <th>2022-05-06 20:57:37.437819</th>\n",
       "      <td>-0.682578</td>\n",
       "      <td>0.328456</td>\n",
       "      <td>-0.008877</td>\n",
       "      <td>1.971077</td>\n",
       "    </tr>\n",
       "    <tr>\n",
       "      <th>2022-05-07 20:57:37.437819</th>\n",
       "      <td>-0.296573</td>\n",
       "      <td>-0.333230</td>\n",
       "      <td>1.249513</td>\n",
       "      <td>0.421419</td>\n",
       "    </tr>\n",
       "    <tr>\n",
       "      <th>2022-05-08 20:57:37.437819</th>\n",
       "      <td>0.530379</td>\n",
       "      <td>-0.076247</td>\n",
       "      <td>1.191235</td>\n",
       "      <td>0.353051</td>\n",
       "    </tr>\n",
       "    <tr>\n",
       "      <th>2022-05-09 20:57:37.437819</th>\n",
       "      <td>0.086238</td>\n",
       "      <td>-1.001780</td>\n",
       "      <td>1.472367</td>\n",
       "      <td>-1.425053</td>\n",
       "    </tr>\n",
       "    <tr>\n",
       "      <th>2022-05-10 20:57:37.437819</th>\n",
       "      <td>-0.095446</td>\n",
       "      <td>2.765548</td>\n",
       "      <td>-1.702394</td>\n",
       "      <td>-0.595491</td>\n",
       "    </tr>\n",
       "    <tr>\n",
       "      <th>2022-05-11 20:57:37.437819</th>\n",
       "      <td>-0.850764</td>\n",
       "      <td>-2.796221</td>\n",
       "      <td>-0.103568</td>\n",
       "      <td>0.068409</td>\n",
       "    </tr>\n",
       "  </tbody>\n",
       "</table>\n",
       "</div>"
      ],
      "text/plain": [
       "                                   A         B         C         D\n",
       "2022-05-06 20:57:37.437819 -0.682578  0.328456 -0.008877  1.971077\n",
       "2022-05-07 20:57:37.437819 -0.296573 -0.333230  1.249513  0.421419\n",
       "2022-05-08 20:57:37.437819  0.530379 -0.076247  1.191235  0.353051\n",
       "2022-05-09 20:57:37.437819  0.086238 -1.001780  1.472367 -1.425053\n",
       "2022-05-10 20:57:37.437819 -0.095446  2.765548 -1.702394 -0.595491\n",
       "2022-05-11 20:57:37.437819 -0.850764 -2.796221 -0.103568  0.068409"
      ]
     },
     "execution_count": 23,
     "metadata": {},
     "output_type": "execute_result"
    }
   ],
   "source": [
    "df2 = df1.copy()\n",
    "df2"
   ]
  },
  {
   "cell_type": "code",
   "execution_count": 24,
   "id": "28fea726",
   "metadata": {},
   "outputs": [
    {
     "data": {
      "text/html": [
       "<div>\n",
       "<style scoped>\n",
       "    .dataframe tbody tr th:only-of-type {\n",
       "        vertical-align: middle;\n",
       "    }\n",
       "\n",
       "    .dataframe tbody tr th {\n",
       "        vertical-align: top;\n",
       "    }\n",
       "\n",
       "    .dataframe thead th {\n",
       "        text-align: right;\n",
       "    }\n",
       "</style>\n",
       "<table border=\"1\" class=\"dataframe\">\n",
       "  <thead>\n",
       "    <tr style=\"text-align: right;\">\n",
       "      <th></th>\n",
       "      <th>A</th>\n",
       "      <th>B</th>\n",
       "      <th>C</th>\n",
       "      <th>D</th>\n",
       "    </tr>\n",
       "  </thead>\n",
       "  <tbody>\n",
       "    <tr>\n",
       "      <th>2022-05-06 20:57:37.437819</th>\n",
       "      <td>False</td>\n",
       "      <td>False</td>\n",
       "      <td>False</td>\n",
       "      <td>False</td>\n",
       "    </tr>\n",
       "    <tr>\n",
       "      <th>2022-05-07 20:57:37.437819</th>\n",
       "      <td>False</td>\n",
       "      <td>False</td>\n",
       "      <td>False</td>\n",
       "      <td>False</td>\n",
       "    </tr>\n",
       "    <tr>\n",
       "      <th>2022-05-08 20:57:37.437819</th>\n",
       "      <td>False</td>\n",
       "      <td>False</td>\n",
       "      <td>False</td>\n",
       "      <td>False</td>\n",
       "    </tr>\n",
       "    <tr>\n",
       "      <th>2022-05-09 20:57:37.437819</th>\n",
       "      <td>False</td>\n",
       "      <td>False</td>\n",
       "      <td>False</td>\n",
       "      <td>False</td>\n",
       "    </tr>\n",
       "    <tr>\n",
       "      <th>2022-05-10 20:57:37.437819</th>\n",
       "      <td>False</td>\n",
       "      <td>False</td>\n",
       "      <td>False</td>\n",
       "      <td>False</td>\n",
       "    </tr>\n",
       "    <tr>\n",
       "      <th>2022-05-11 20:57:37.437819</th>\n",
       "      <td>False</td>\n",
       "      <td>False</td>\n",
       "      <td>False</td>\n",
       "      <td>False</td>\n",
       "    </tr>\n",
       "  </tbody>\n",
       "</table>\n",
       "</div>"
      ],
      "text/plain": [
       "                                A      B      C      D\n",
       "2022-05-06 20:57:37.437819  False  False  False  False\n",
       "2022-05-07 20:57:37.437819  False  False  False  False\n",
       "2022-05-08 20:57:37.437819  False  False  False  False\n",
       "2022-05-09 20:57:37.437819  False  False  False  False\n",
       "2022-05-10 20:57:37.437819  False  False  False  False\n",
       "2022-05-11 20:57:37.437819  False  False  False  False"
      ]
     },
     "execution_count": 24,
     "metadata": {},
     "output_type": "execute_result"
    }
   ],
   "source": [
    "df2.isnull()"
   ]
  },
  {
   "cell_type": "code",
   "execution_count": 25,
   "id": "44a6d49c",
   "metadata": {},
   "outputs": [
    {
     "data": {
      "text/html": [
       "<div>\n",
       "<style scoped>\n",
       "    .dataframe tbody tr th:only-of-type {\n",
       "        vertical-align: middle;\n",
       "    }\n",
       "\n",
       "    .dataframe tbody tr th {\n",
       "        vertical-align: top;\n",
       "    }\n",
       "\n",
       "    .dataframe thead th {\n",
       "        text-align: right;\n",
       "    }\n",
       "</style>\n",
       "<table border=\"1\" class=\"dataframe\">\n",
       "  <thead>\n",
       "    <tr style=\"text-align: right;\">\n",
       "      <th></th>\n",
       "      <th>A</th>\n",
       "      <th>B</th>\n",
       "      <th>C</th>\n",
       "      <th>D</th>\n",
       "    </tr>\n",
       "  </thead>\n",
       "  <tbody>\n",
       "    <tr>\n",
       "      <th>2022-05-06 20:57:37.437819</th>\n",
       "      <td>-0.682578</td>\n",
       "      <td>0.328456</td>\n",
       "      <td>-0.008877</td>\n",
       "      <td>1.971077</td>\n",
       "    </tr>\n",
       "    <tr>\n",
       "      <th>2022-05-07 20:57:37.437819</th>\n",
       "      <td>1.500000</td>\n",
       "      <td>-0.333230</td>\n",
       "      <td>1.249513</td>\n",
       "      <td>0.421419</td>\n",
       "    </tr>\n",
       "    <tr>\n",
       "      <th>2022-05-08 20:57:37.437819</th>\n",
       "      <td>0.530379</td>\n",
       "      <td>-0.076247</td>\n",
       "      <td>1.191235</td>\n",
       "      <td>0.353051</td>\n",
       "    </tr>\n",
       "    <tr>\n",
       "      <th>2022-05-09 20:57:37.437819</th>\n",
       "      <td>0.086238</td>\n",
       "      <td>-1.001780</td>\n",
       "      <td>1.472367</td>\n",
       "      <td>-1.425053</td>\n",
       "    </tr>\n",
       "    <tr>\n",
       "      <th>2022-05-10 20:57:37.437819</th>\n",
       "      <td>-0.095446</td>\n",
       "      <td>2.765548</td>\n",
       "      <td>-1.702394</td>\n",
       "      <td>-0.595491</td>\n",
       "    </tr>\n",
       "    <tr>\n",
       "      <th>2022-05-11 20:57:37.437819</th>\n",
       "      <td>-0.850764</td>\n",
       "      <td>-2.796221</td>\n",
       "      <td>-0.103568</td>\n",
       "      <td>0.068409</td>\n",
       "    </tr>\n",
       "  </tbody>\n",
       "</table>\n",
       "</div>"
      ],
      "text/plain": [
       "                                   A         B         C         D\n",
       "2022-05-06 20:57:37.437819 -0.682578  0.328456 -0.008877  1.971077\n",
       "2022-05-07 20:57:37.437819  1.500000 -0.333230  1.249513  0.421419\n",
       "2022-05-08 20:57:37.437819  0.530379 -0.076247  1.191235  0.353051\n",
       "2022-05-09 20:57:37.437819  0.086238 -1.001780  1.472367 -1.425053\n",
       "2022-05-10 20:57:37.437819 -0.095446  2.765548 -1.702394 -0.595491\n",
       "2022-05-11 20:57:37.437819 -0.850764 -2.796221 -0.103568  0.068409"
      ]
     },
     "execution_count": 25,
     "metadata": {},
     "output_type": "execute_result"
    }
   ],
   "source": [
    "df2.loc['2022-05-07 20:57:37.437819','A'] = 1.5\n",
    "df2"
   ]
  },
  {
   "cell_type": "code",
   "execution_count": 27,
   "id": "628b9b46",
   "metadata": {},
   "outputs": [
    {
     "data": {
      "text/plain": [
       "A    0.081305\n",
       "dtype: float64"
      ]
     },
     "execution_count": 27,
     "metadata": {},
     "output_type": "execute_result"
    }
   ],
   "source": [
    "df2[['A']].mean()"
   ]
  },
  {
   "cell_type": "code",
   "execution_count": 28,
   "id": "f86354b3",
   "metadata": {},
   "outputs": [
    {
     "data": {
      "text/plain": [
       "B   -1.113474\n",
       "dtype: float64"
      ]
     },
     "execution_count": 28,
     "metadata": {},
     "output_type": "execute_result"
    }
   ],
   "source": [
    "df2[['B']].sum()"
   ]
  },
  {
   "cell_type": "code",
   "execution_count": 29,
   "id": "552ba5ee",
   "metadata": {},
   "outputs": [
    {
     "data": {
      "text/plain": [
       "B   -2.796221\n",
       "dtype: float64"
      ]
     },
     "execution_count": 29,
     "metadata": {},
     "output_type": "execute_result"
    }
   ],
   "source": [
    "df2[['B']].min()"
   ]
  },
  {
   "cell_type": "code",
   "execution_count": 30,
   "id": "41499c5c",
   "metadata": {},
   "outputs": [
    {
     "data": {
      "text/plain": [
       "B    2.765548\n",
       "dtype: float64"
      ]
     },
     "execution_count": 30,
     "metadata": {},
     "output_type": "execute_result"
    }
   ],
   "source": [
    "df2[['B']].max()"
   ]
  },
  {
   "cell_type": "code",
   "execution_count": 31,
   "id": "7f0d0b65",
   "metadata": {},
   "outputs": [
    {
     "data": {
      "text/plain": [
       "A    0.487829\n",
       "B   -1.113474\n",
       "C    2.098276\n",
       "D    0.793412\n",
       "dtype: float64"
      ]
     },
     "execution_count": 31,
     "metadata": {},
     "output_type": "execute_result"
    }
   ],
   "source": [
    "df2.sum()"
   ]
  },
  {
   "cell_type": "code",
   "execution_count": 35,
   "id": "14525f03",
   "metadata": {},
   "outputs": [
    {
     "data": {
      "text/plain": [
       "0       A\n",
       "1       C\n",
       "2       D\n",
       "3     AAA\n",
       "4    BACA\n",
       "5     NaN\n",
       "6     CBA\n",
       "7     COW\n",
       "8     OWL\n",
       "dtype: object"
      ]
     },
     "execution_count": 35,
     "metadata": {},
     "output_type": "execute_result"
    }
   ],
   "source": [
    "string = pd.Series(['A','C','D','Aaa','BaCa',np.nan,'CBA','cow','owl'])\n",
    "string.str.upper()"
   ]
  },
  {
   "cell_type": "markdown",
   "id": "034fd973",
   "metadata": {},
   "source": [
    "# Operations for dataframe missing values"
   ]
  },
  {
   "cell_type": "code",
   "execution_count": 40,
   "id": "df59dec4",
   "metadata": {},
   "outputs": [
    {
     "data": {
      "text/plain": [
       "2022-05-06 20:57:37.437819   -0.682578\n",
       "2022-05-07 20:57:37.437819    1.500000\n",
       "2022-05-08 20:57:37.437819    0.530379\n",
       "2022-05-09 20:57:37.437819    0.086238\n",
       "2022-05-10 20:57:37.437819   -0.095446\n",
       "2022-05-11 20:57:37.437819   -0.850764\n",
       "Freq: D, Name: A, dtype: float64"
      ]
     },
     "execution_count": 40,
     "metadata": {},
     "output_type": "execute_result"
    }
   ],
   "source": [
    "df3 = df2.copy()\n",
    "meanAge = df3['A'].mean()\n",
    "df3['A'].fillna(meanAge)"
   ]
  },
  {
   "cell_type": "code",
   "execution_count": 44,
   "id": "ea6201ce",
   "metadata": {},
   "outputs": [
    {
     "data": {
      "text/html": [
       "<div>\n",
       "<style scoped>\n",
       "    .dataframe tbody tr th:only-of-type {\n",
       "        vertical-align: middle;\n",
       "    }\n",
       "\n",
       "    .dataframe tbody tr th {\n",
       "        vertical-align: top;\n",
       "    }\n",
       "\n",
       "    .dataframe thead th {\n",
       "        text-align: right;\n",
       "    }\n",
       "</style>\n",
       "<table border=\"1\" class=\"dataframe\">\n",
       "  <thead>\n",
       "    <tr style=\"text-align: right;\">\n",
       "      <th></th>\n",
       "      <th>A</th>\n",
       "      <th>B</th>\n",
       "      <th>C</th>\n",
       "      <th>D</th>\n",
       "    </tr>\n",
       "  </thead>\n",
       "  <tbody>\n",
       "    <tr>\n",
       "      <th>2022-05-06 20:57:37.437819</th>\n",
       "      <td>-0.682578</td>\n",
       "      <td>0.328456</td>\n",
       "      <td>-0.008877</td>\n",
       "      <td>1.971077</td>\n",
       "    </tr>\n",
       "    <tr>\n",
       "      <th>2022-05-07 20:57:37.437819</th>\n",
       "      <td>1.500000</td>\n",
       "      <td>-0.333230</td>\n",
       "      <td>1.249513</td>\n",
       "      <td>0.421419</td>\n",
       "    </tr>\n",
       "    <tr>\n",
       "      <th>2022-05-08 20:57:37.437819</th>\n",
       "      <td>0.530379</td>\n",
       "      <td>-0.076247</td>\n",
       "      <td>1.191235</td>\n",
       "      <td>0.353051</td>\n",
       "    </tr>\n",
       "    <tr>\n",
       "      <th>2022-05-09 20:57:37.437819</th>\n",
       "      <td>0.086238</td>\n",
       "      <td>-1.001780</td>\n",
       "      <td>1.472367</td>\n",
       "      <td>-1.425053</td>\n",
       "    </tr>\n",
       "    <tr>\n",
       "      <th>2022-05-10 20:57:37.437819</th>\n",
       "      <td>-0.095446</td>\n",
       "      <td>2.765548</td>\n",
       "      <td>-1.702394</td>\n",
       "      <td>-0.595491</td>\n",
       "    </tr>\n",
       "    <tr>\n",
       "      <th>2022-05-11 20:57:37.437819</th>\n",
       "      <td>-0.850764</td>\n",
       "      <td>-2.796221</td>\n",
       "      <td>-0.103568</td>\n",
       "      <td>0.068409</td>\n",
       "    </tr>\n",
       "  </tbody>\n",
       "</table>\n",
       "</div>"
      ],
      "text/plain": [
       "                                   A         B         C         D\n",
       "2022-05-06 20:57:37.437819 -0.682578  0.328456 -0.008877  1.971077\n",
       "2022-05-07 20:57:37.437819  1.500000 -0.333230  1.249513  0.421419\n",
       "2022-05-08 20:57:37.437819  0.530379 -0.076247  1.191235  0.353051\n",
       "2022-05-09 20:57:37.437819  0.086238 -1.001780  1.472367 -1.425053\n",
       "2022-05-10 20:57:37.437819 -0.095446  2.765548 -1.702394 -0.595491\n",
       "2022-05-11 20:57:37.437819 -0.850764 -2.796221 -0.103568  0.068409"
      ]
     },
     "execution_count": 44,
     "metadata": {},
     "output_type": "execute_result"
    }
   ],
   "source": [
    "df4 = df3.copy()\n",
    "df4.dropna(how = 'any')"
   ]
  },
  {
   "cell_type": "markdown",
   "id": "d53c871f",
   "metadata": {},
   "source": [
    "# Dataframe file operations"
   ]
  },
  {
   "cell_type": "code",
   "execution_count": 45,
   "id": "270ca34c",
   "metadata": {},
   "outputs": [],
   "source": [
    "df4.to_csv('animal.csv')"
   ]
  },
  {
   "cell_type": "code",
   "execution_count": 46,
   "id": "5e9104b0",
   "metadata": {},
   "outputs": [
    {
     "data": {
      "text/html": [
       "<div>\n",
       "<style scoped>\n",
       "    .dataframe tbody tr th:only-of-type {\n",
       "        vertical-align: middle;\n",
       "    }\n",
       "\n",
       "    .dataframe tbody tr th {\n",
       "        vertical-align: top;\n",
       "    }\n",
       "\n",
       "    .dataframe thead th {\n",
       "        text-align: right;\n",
       "    }\n",
       "</style>\n",
       "<table border=\"1\" class=\"dataframe\">\n",
       "  <thead>\n",
       "    <tr style=\"text-align: right;\">\n",
       "      <th></th>\n",
       "      <th>Unnamed: 0</th>\n",
       "      <th>A</th>\n",
       "      <th>B</th>\n",
       "      <th>C</th>\n",
       "      <th>D</th>\n",
       "    </tr>\n",
       "  </thead>\n",
       "  <tbody>\n",
       "    <tr>\n",
       "      <th>0</th>\n",
       "      <td>2022-05-06 20:57:37.437819</td>\n",
       "      <td>-0.682578</td>\n",
       "      <td>0.328456</td>\n",
       "      <td>-0.008877</td>\n",
       "      <td>1.971077</td>\n",
       "    </tr>\n",
       "    <tr>\n",
       "      <th>1</th>\n",
       "      <td>2022-05-07 20:57:37.437819</td>\n",
       "      <td>1.500000</td>\n",
       "      <td>-0.333230</td>\n",
       "      <td>1.249513</td>\n",
       "      <td>0.421419</td>\n",
       "    </tr>\n",
       "    <tr>\n",
       "      <th>2</th>\n",
       "      <td>2022-05-08 20:57:37.437819</td>\n",
       "      <td>0.530379</td>\n",
       "      <td>-0.076247</td>\n",
       "      <td>1.191235</td>\n",
       "      <td>0.353051</td>\n",
       "    </tr>\n",
       "  </tbody>\n",
       "</table>\n",
       "</div>"
      ],
      "text/plain": [
       "                   Unnamed: 0         A         B         C         D\n",
       "0  2022-05-06 20:57:37.437819 -0.682578  0.328456 -0.008877  1.971077\n",
       "1  2022-05-07 20:57:37.437819  1.500000 -0.333230  1.249513  0.421419\n",
       "2  2022-05-08 20:57:37.437819  0.530379 -0.076247  1.191235  0.353051"
      ]
     },
     "execution_count": 46,
     "metadata": {},
     "output_type": "execute_result"
    }
   ],
   "source": [
    "df_animal = pd.read_csv('animal.csv')\n",
    "df_animal.head(3)"
   ]
  },
  {
   "cell_type": "code",
   "execution_count": 47,
   "id": "faecb5a3",
   "metadata": {},
   "outputs": [],
   "source": [
    "df4.to_excel('animal.xlsx',sheet_name = 'Sheet1')"
   ]
  },
  {
   "cell_type": "code",
   "execution_count": 48,
   "id": "f049f96e",
   "metadata": {},
   "outputs": [
    {
     "data": {
      "text/html": [
       "<div>\n",
       "<style scoped>\n",
       "    .dataframe tbody tr th:only-of-type {\n",
       "        vertical-align: middle;\n",
       "    }\n",
       "\n",
       "    .dataframe tbody tr th {\n",
       "        vertical-align: top;\n",
       "    }\n",
       "\n",
       "    .dataframe thead th {\n",
       "        text-align: right;\n",
       "    }\n",
       "</style>\n",
       "<table border=\"1\" class=\"dataframe\">\n",
       "  <thead>\n",
       "    <tr style=\"text-align: right;\">\n",
       "      <th></th>\n",
       "      <th>Unnamed: 0</th>\n",
       "      <th>A</th>\n",
       "      <th>B</th>\n",
       "      <th>C</th>\n",
       "      <th>D</th>\n",
       "    </tr>\n",
       "  </thead>\n",
       "  <tbody>\n",
       "    <tr>\n",
       "      <th>0</th>\n",
       "      <td>2022-05-06 20:57:37.438</td>\n",
       "      <td>-0.682578</td>\n",
       "      <td>0.328456</td>\n",
       "      <td>-0.008877</td>\n",
       "      <td>1.971077</td>\n",
       "    </tr>\n",
       "    <tr>\n",
       "      <th>1</th>\n",
       "      <td>2022-05-07 20:57:37.438</td>\n",
       "      <td>1.500000</td>\n",
       "      <td>-0.333230</td>\n",
       "      <td>1.249513</td>\n",
       "      <td>0.421419</td>\n",
       "    </tr>\n",
       "    <tr>\n",
       "      <th>2</th>\n",
       "      <td>2022-05-08 20:57:37.438</td>\n",
       "      <td>0.530379</td>\n",
       "      <td>-0.076247</td>\n",
       "      <td>1.191235</td>\n",
       "      <td>0.353051</td>\n",
       "    </tr>\n",
       "    <tr>\n",
       "      <th>3</th>\n",
       "      <td>2022-05-09 20:57:37.438</td>\n",
       "      <td>0.086238</td>\n",
       "      <td>-1.001780</td>\n",
       "      <td>1.472367</td>\n",
       "      <td>-1.425053</td>\n",
       "    </tr>\n",
       "    <tr>\n",
       "      <th>4</th>\n",
       "      <td>2022-05-10 20:57:37.438</td>\n",
       "      <td>-0.095446</td>\n",
       "      <td>2.765548</td>\n",
       "      <td>-1.702394</td>\n",
       "      <td>-0.595491</td>\n",
       "    </tr>\n",
       "    <tr>\n",
       "      <th>5</th>\n",
       "      <td>2022-05-11 20:57:37.438</td>\n",
       "      <td>-0.850764</td>\n",
       "      <td>-2.796221</td>\n",
       "      <td>-0.103568</td>\n",
       "      <td>0.068409</td>\n",
       "    </tr>\n",
       "  </tbody>\n",
       "</table>\n",
       "</div>"
      ],
      "text/plain": [
       "               Unnamed: 0         A         B         C         D\n",
       "0 2022-05-06 20:57:37.438 -0.682578  0.328456 -0.008877  1.971077\n",
       "1 2022-05-07 20:57:37.438  1.500000 -0.333230  1.249513  0.421419\n",
       "2 2022-05-08 20:57:37.438  0.530379 -0.076247  1.191235  0.353051\n",
       "3 2022-05-09 20:57:37.438  0.086238 -1.001780  1.472367 -1.425053\n",
       "4 2022-05-10 20:57:37.438 -0.095446  2.765548 -1.702394 -0.595491\n",
       "5 2022-05-11 20:57:37.438 -0.850764 -2.796221 -0.103568  0.068409"
      ]
     },
     "execution_count": 48,
     "metadata": {},
     "output_type": "execute_result"
    }
   ],
   "source": [
    "df_animal2 = pd.read_excel('animal.xlsx','Sheet1',index_col = None, na_values = ['NA'])\n",
    "df_animal2"
   ]
  },
  {
   "cell_type": "markdown",
   "id": "f2a1ef9a",
   "metadata": {},
   "source": [
    "# Visualisation in pandas"
   ]
  },
  {
   "cell_type": "code",
   "execution_count": 50,
   "id": "f473f94d",
   "metadata": {},
   "outputs": [
    {
     "data": {
      "text/plain": [
       "<AxesSubplot:>"
      ]
     },
     "execution_count": 50,
     "metadata": {},
     "output_type": "execute_result"
    },
    {
     "data": {
      "image/png": "[encoded data removed]",
      "text/plain": [
       "<Figure size 432x288 with 1 Axes>"
      ]
     },
     "metadata": {
      "needs_background": "light"
     },
     "output_type": "display_data"
    }
   ],
   "source": [
    "import numpy as np\n",
    "%matplotlib inline\n",
    "\n",
    "ts = pd.Series(np.random.randn(50),index = pd.date_range('today',periods = 50))\n",
    "ts = ts.cumsum()\n",
    "ts.plot()"
   ]
  },
  {
   "cell_type": "code",
   "execution_count": 51,
   "id": "d621e64b",
   "metadata": {},
   "outputs": [
    {
     "data": {
      "text/html": [
       "<div>\n",
       "<style scoped>\n",
       "    .dataframe tbody tr th:only-of-type {\n",
       "        vertical-align: middle;\n",
       "    }\n",
       "\n",
       "    .dataframe tbody tr th {\n",
       "        vertical-align: top;\n",
       "    }\n",
       "\n",
       "    .dataframe thead th {\n",
       "        text-align: right;\n",
       "    }\n",
       "</style>\n",
       "<table border=\"1\" class=\"dataframe\">\n",
       "  <thead>\n",
       "    <tr style=\"text-align: right;\">\n",
       "      <th></th>\n",
       "      <th>A</th>\n",
       "      <th>B</th>\n",
       "      <th>C</th>\n",
       "      <th>D</th>\n",
       "    </tr>\n",
       "  </thead>\n",
       "  <tbody>\n",
       "    <tr>\n",
       "      <th>2022-05-06 21:37:56.772757</th>\n",
       "      <td>1.237246</td>\n",
       "      <td>2.006213</td>\n",
       "      <td>-0.379069</td>\n",
       "      <td>-1.146301</td>\n",
       "    </tr>\n",
       "    <tr>\n",
       "      <th>2022-05-07 21:37:56.772757</th>\n",
       "      <td>0.199413</td>\n",
       "      <td>-0.543348</td>\n",
       "      <td>0.762218</td>\n",
       "      <td>1.751374</td>\n",
       "    </tr>\n",
       "    <tr>\n",
       "      <th>2022-05-08 21:37:56.772757</th>\n",
       "      <td>1.219429</td>\n",
       "      <td>-0.383035</td>\n",
       "      <td>-1.147516</td>\n",
       "      <td>-1.514132</td>\n",
       "    </tr>\n",
       "    <tr>\n",
       "      <th>2022-05-09 21:37:56.772757</th>\n",
       "      <td>-0.411489</td>\n",
       "      <td>-0.233576</td>\n",
       "      <td>-1.312065</td>\n",
       "      <td>-1.305775</td>\n",
       "    </tr>\n",
       "    <tr>\n",
       "      <th>2022-05-10 21:37:56.772757</th>\n",
       "      <td>-0.823640</td>\n",
       "      <td>-0.716731</td>\n",
       "      <td>-2.093029</td>\n",
       "      <td>-0.227575</td>\n",
       "    </tr>\n",
       "    <tr>\n",
       "      <th>2022-05-11 21:37:56.772757</th>\n",
       "      <td>2.216206</td>\n",
       "      <td>-1.129050</td>\n",
       "      <td>-0.592859</td>\n",
       "      <td>0.059838</td>\n",
       "    </tr>\n",
       "    <tr>\n",
       "      <th>2022-05-12 21:37:56.772757</th>\n",
       "      <td>0.612113</td>\n",
       "      <td>-0.362376</td>\n",
       "      <td>1.710229</td>\n",
       "      <td>1.860324</td>\n",
       "    </tr>\n",
       "    <tr>\n",
       "      <th>2022-05-13 21:37:56.772757</th>\n",
       "      <td>1.005391</td>\n",
       "      <td>-0.088705</td>\n",
       "      <td>0.432227</td>\n",
       "      <td>-0.825672</td>\n",
       "    </tr>\n",
       "    <tr>\n",
       "      <th>2022-05-14 21:37:56.772757</th>\n",
       "      <td>1.130137</td>\n",
       "      <td>-0.654628</td>\n",
       "      <td>-0.633356</td>\n",
       "      <td>0.706516</td>\n",
       "    </tr>\n",
       "    <tr>\n",
       "      <th>2022-05-15 21:37:56.772757</th>\n",
       "      <td>-0.975126</td>\n",
       "      <td>-1.236313</td>\n",
       "      <td>-1.657203</td>\n",
       "      <td>0.733379</td>\n",
       "    </tr>\n",
       "    <tr>\n",
       "      <th>2022-05-16 21:37:56.772757</th>\n",
       "      <td>0.336888</td>\n",
       "      <td>-0.346964</td>\n",
       "      <td>0.884534</td>\n",
       "      <td>-0.999003</td>\n",
       "    </tr>\n",
       "    <tr>\n",
       "      <th>2022-05-17 21:37:56.772757</th>\n",
       "      <td>0.891216</td>\n",
       "      <td>0.956930</td>\n",
       "      <td>0.234255</td>\n",
       "      <td>-0.770777</td>\n",
       "    </tr>\n",
       "    <tr>\n",
       "      <th>2022-05-18 21:37:56.772757</th>\n",
       "      <td>-1.057980</td>\n",
       "      <td>-1.739953</td>\n",
       "      <td>0.065159</td>\n",
       "      <td>-0.170835</td>\n",
       "    </tr>\n",
       "    <tr>\n",
       "      <th>2022-05-19 21:37:56.772757</th>\n",
       "      <td>-0.451756</td>\n",
       "      <td>-1.007327</td>\n",
       "      <td>0.591256</td>\n",
       "      <td>-0.622548</td>\n",
       "    </tr>\n",
       "    <tr>\n",
       "      <th>2022-05-20 21:37:56.772757</th>\n",
       "      <td>0.559829</td>\n",
       "      <td>0.601219</td>\n",
       "      <td>0.250436</td>\n",
       "      <td>0.096605</td>\n",
       "    </tr>\n",
       "    <tr>\n",
       "      <th>2022-05-21 21:37:56.772757</th>\n",
       "      <td>-1.107549</td>\n",
       "      <td>0.106899</td>\n",
       "      <td>-1.171747</td>\n",
       "      <td>-0.011544</td>\n",
       "    </tr>\n",
       "    <tr>\n",
       "      <th>2022-05-22 21:37:56.772757</th>\n",
       "      <td>1.736018</td>\n",
       "      <td>0.783350</td>\n",
       "      <td>1.252908</td>\n",
       "      <td>0.690991</td>\n",
       "    </tr>\n",
       "    <tr>\n",
       "      <th>2022-05-23 21:37:56.772757</th>\n",
       "      <td>1.927612</td>\n",
       "      <td>1.283381</td>\n",
       "      <td>0.123806</td>\n",
       "      <td>-1.191367</td>\n",
       "    </tr>\n",
       "    <tr>\n",
       "      <th>2022-05-24 21:37:56.772757</th>\n",
       "      <td>-0.889702</td>\n",
       "      <td>-0.266053</td>\n",
       "      <td>0.373713</td>\n",
       "      <td>0.956159</td>\n",
       "    </tr>\n",
       "    <tr>\n",
       "      <th>2022-05-25 21:37:56.772757</th>\n",
       "      <td>-0.359758</td>\n",
       "      <td>0.523109</td>\n",
       "      <td>-1.330436</td>\n",
       "      <td>0.430646</td>\n",
       "    </tr>\n",
       "    <tr>\n",
       "      <th>2022-05-26 21:37:56.772757</th>\n",
       "      <td>-1.455621</td>\n",
       "      <td>0.593994</td>\n",
       "      <td>-0.420900</td>\n",
       "      <td>2.053513</td>\n",
       "    </tr>\n",
       "    <tr>\n",
       "      <th>2022-05-27 21:37:56.772757</th>\n",
       "      <td>1.856403</td>\n",
       "      <td>-0.691235</td>\n",
       "      <td>-1.270950</td>\n",
       "      <td>-1.529443</td>\n",
       "    </tr>\n",
       "    <tr>\n",
       "      <th>2022-05-28 21:37:56.772757</th>\n",
       "      <td>-0.001654</td>\n",
       "      <td>-0.218121</td>\n",
       "      <td>-0.296586</td>\n",
       "      <td>0.056255</td>\n",
       "    </tr>\n",
       "    <tr>\n",
       "      <th>2022-05-29 21:37:56.772757</th>\n",
       "      <td>-0.750991</td>\n",
       "      <td>0.066508</td>\n",
       "      <td>-0.184560</td>\n",
       "      <td>-1.251852</td>\n",
       "    </tr>\n",
       "    <tr>\n",
       "      <th>2022-05-30 21:37:56.772757</th>\n",
       "      <td>-0.944896</td>\n",
       "      <td>1.870146</td>\n",
       "      <td>1.037447</td>\n",
       "      <td>0.805561</td>\n",
       "    </tr>\n",
       "    <tr>\n",
       "      <th>2022-05-31 21:37:56.772757</th>\n",
       "      <td>0.015845</td>\n",
       "      <td>-1.443352</td>\n",
       "      <td>-0.229175</td>\n",
       "      <td>0.369573</td>\n",
       "    </tr>\n",
       "    <tr>\n",
       "      <th>2022-06-01 21:37:56.772757</th>\n",
       "      <td>-1.828306</td>\n",
       "      <td>-1.934154</td>\n",
       "      <td>0.663870</td>\n",
       "      <td>2.014336</td>\n",
       "    </tr>\n",
       "    <tr>\n",
       "      <th>2022-06-02 21:37:56.772757</th>\n",
       "      <td>-1.415908</td>\n",
       "      <td>2.529573</td>\n",
       "      <td>1.138684</td>\n",
       "      <td>-1.849138</td>\n",
       "    </tr>\n",
       "    <tr>\n",
       "      <th>2022-06-03 21:37:56.772757</th>\n",
       "      <td>1.494299</td>\n",
       "      <td>-0.319272</td>\n",
       "      <td>0.903240</td>\n",
       "      <td>-1.116880</td>\n",
       "    </tr>\n",
       "    <tr>\n",
       "      <th>2022-06-04 21:37:56.772757</th>\n",
       "      <td>1.124868</td>\n",
       "      <td>-0.118072</td>\n",
       "      <td>0.069586</td>\n",
       "      <td>-0.343388</td>\n",
       "    </tr>\n",
       "    <tr>\n",
       "      <th>2022-06-05 21:37:56.772757</th>\n",
       "      <td>1.361366</td>\n",
       "      <td>0.762107</td>\n",
       "      <td>-0.557225</td>\n",
       "      <td>-0.415394</td>\n",
       "    </tr>\n",
       "    <tr>\n",
       "      <th>2022-06-06 21:37:56.772757</th>\n",
       "      <td>-0.703724</td>\n",
       "      <td>0.042740</td>\n",
       "      <td>-0.615400</td>\n",
       "      <td>0.204325</td>\n",
       "    </tr>\n",
       "    <tr>\n",
       "      <th>2022-06-07 21:37:56.772757</th>\n",
       "      <td>-0.081215</td>\n",
       "      <td>1.192819</td>\n",
       "      <td>-1.330317</td>\n",
       "      <td>2.626304</td>\n",
       "    </tr>\n",
       "    <tr>\n",
       "      <th>2022-06-08 21:37:56.772757</th>\n",
       "      <td>-0.469828</td>\n",
       "      <td>0.277881</td>\n",
       "      <td>-1.617842</td>\n",
       "      <td>-0.853430</td>\n",
       "    </tr>\n",
       "    <tr>\n",
       "      <th>2022-06-09 21:37:56.772757</th>\n",
       "      <td>-0.660645</td>\n",
       "      <td>-0.167090</td>\n",
       "      <td>1.649540</td>\n",
       "      <td>0.815428</td>\n",
       "    </tr>\n",
       "    <tr>\n",
       "      <th>2022-06-10 21:37:56.772757</th>\n",
       "      <td>-0.451546</td>\n",
       "      <td>-0.461233</td>\n",
       "      <td>0.142658</td>\n",
       "      <td>-0.027095</td>\n",
       "    </tr>\n",
       "    <tr>\n",
       "      <th>2022-06-11 21:37:56.772757</th>\n",
       "      <td>-0.012656</td>\n",
       "      <td>0.464202</td>\n",
       "      <td>-1.501534</td>\n",
       "      <td>0.237401</td>\n",
       "    </tr>\n",
       "    <tr>\n",
       "      <th>2022-06-12 21:37:56.772757</th>\n",
       "      <td>1.582379</td>\n",
       "      <td>-1.587302</td>\n",
       "      <td>1.096129</td>\n",
       "      <td>-0.134603</td>\n",
       "    </tr>\n",
       "    <tr>\n",
       "      <th>2022-06-13 21:37:56.772757</th>\n",
       "      <td>0.479043</td>\n",
       "      <td>0.293235</td>\n",
       "      <td>-0.983519</td>\n",
       "      <td>-0.699930</td>\n",
       "    </tr>\n",
       "    <tr>\n",
       "      <th>2022-06-14 21:37:56.772757</th>\n",
       "      <td>-1.436304</td>\n",
       "      <td>1.290000</td>\n",
       "      <td>1.554456</td>\n",
       "      <td>-0.597771</td>\n",
       "    </tr>\n",
       "    <tr>\n",
       "      <th>2022-06-15 21:37:56.772757</th>\n",
       "      <td>0.804795</td>\n",
       "      <td>-0.272425</td>\n",
       "      <td>0.149370</td>\n",
       "      <td>1.832194</td>\n",
       "    </tr>\n",
       "    <tr>\n",
       "      <th>2022-06-16 21:37:56.772757</th>\n",
       "      <td>0.416527</td>\n",
       "      <td>0.271607</td>\n",
       "      <td>-0.922461</td>\n",
       "      <td>-0.869743</td>\n",
       "    </tr>\n",
       "    <tr>\n",
       "      <th>2022-06-17 21:37:56.772757</th>\n",
       "      <td>-1.265856</td>\n",
       "      <td>-0.153023</td>\n",
       "      <td>-1.380393</td>\n",
       "      <td>0.070764</td>\n",
       "    </tr>\n",
       "    <tr>\n",
       "      <th>2022-06-18 21:37:56.772757</th>\n",
       "      <td>0.041658</td>\n",
       "      <td>1.026048</td>\n",
       "      <td>-1.368549</td>\n",
       "      <td>-0.570182</td>\n",
       "    </tr>\n",
       "    <tr>\n",
       "      <th>2022-06-19 21:37:56.772757</th>\n",
       "      <td>0.720304</td>\n",
       "      <td>-0.800752</td>\n",
       "      <td>-1.493916</td>\n",
       "      <td>-0.934692</td>\n",
       "    </tr>\n",
       "    <tr>\n",
       "      <th>2022-06-20 21:37:56.772757</th>\n",
       "      <td>0.398292</td>\n",
       "      <td>-0.557554</td>\n",
       "      <td>-1.106300</td>\n",
       "      <td>1.076208</td>\n",
       "    </tr>\n",
       "    <tr>\n",
       "      <th>2022-06-21 21:37:56.772757</th>\n",
       "      <td>0.281568</td>\n",
       "      <td>1.116797</td>\n",
       "      <td>-1.290775</td>\n",
       "      <td>-0.297100</td>\n",
       "    </tr>\n",
       "    <tr>\n",
       "      <th>2022-06-22 21:37:56.772757</th>\n",
       "      <td>-0.539795</td>\n",
       "      <td>2.185802</td>\n",
       "      <td>1.770104</td>\n",
       "      <td>1.137246</td>\n",
       "    </tr>\n",
       "    <tr>\n",
       "      <th>2022-06-23 21:37:56.772757</th>\n",
       "      <td>-0.248973</td>\n",
       "      <td>-0.972478</td>\n",
       "      <td>1.117994</td>\n",
       "      <td>-0.470676</td>\n",
       "    </tr>\n",
       "    <tr>\n",
       "      <th>2022-06-24 21:37:56.772757</th>\n",
       "      <td>0.896272</td>\n",
       "      <td>-0.727674</td>\n",
       "      <td>-0.790685</td>\n",
       "      <td>-0.078576</td>\n",
       "    </tr>\n",
       "  </tbody>\n",
       "</table>\n",
       "</div>"
      ],
      "text/plain": [
       "                                   A         B         C         D\n",
       "2022-05-06 21:37:56.772757  1.237246  2.006213 -0.379069 -1.146301\n",
       "2022-05-07 21:37:56.772757  0.199413 -0.543348  0.762218  1.751374\n",
       "2022-05-08 21:37:56.772757  1.219429 -0.383035 -1.147516 -1.514132\n",
       "2022-05-09 21:37:56.772757 -0.411489 -0.233576 -1.312065 -1.305775\n",
       "2022-05-10 21:37:56.772757 -0.823640 -0.716731 -2.093029 -0.227575\n",
       "2022-05-11 21:37:56.772757  2.216206 -1.129050 -0.592859  0.059838\n",
       "2022-05-12 21:37:56.772757  0.612113 -0.362376  1.710229  1.860324\n",
       "2022-05-13 21:37:56.772757  1.005391 -0.088705  0.432227 -0.825672\n",
       "2022-05-14 21:37:56.772757  1.130137 -0.654628 -0.633356  0.706516\n",
       "2022-05-15 21:37:56.772757 -0.975126 -1.236313 -1.657203  0.733379\n",
       "2022-05-16 21:37:56.772757  0.336888 -0.346964  0.884534 -0.999003\n",
       "2022-05-17 21:37:56.772757  0.891216  0.956930  0.234255 -0.770777\n",
       "2022-05-18 21:37:56.772757 -1.057980 -1.739953  0.065159 -0.170835\n",
       "2022-05-19 21:37:56.772757 -0.451756 -1.007327  0.591256 -0.622548\n",
       "2022-05-20 21:37:56.772757  0.559829  0.601219  0.250436  0.096605\n",
       "2022-05-21 21:37:56.772757 -1.107549  0.106899 -1.171747 -0.011544\n",
       "2022-05-22 21:37:56.772757  1.736018  0.783350  1.252908  0.690991\n",
       "2022-05-23 21:37:56.772757  1.927612  1.283381  0.123806 -1.191367\n",
       "2022-05-24 21:37:56.772757 -0.889702 -0.266053  0.373713  0.956159\n",
       "2022-05-25 21:37:56.772757 -0.359758  0.523109 -1.330436  0.430646\n",
       "2022-05-26 21:37:56.772757 -1.455621  0.593994 -0.420900  2.053513\n",
       "2022-05-27 21:37:56.772757  1.856403 -0.691235 -1.270950 -1.529443\n",
       "2022-05-28 21:37:56.772757 -0.001654 -0.218121 -0.296586  0.056255\n",
       "2022-05-29 21:37:56.772757 -0.750991  0.066508 -0.184560 -1.251852\n",
       "2022-05-30 21:37:56.772757 -0.944896  1.870146  1.037447  0.805561\n",
       "2022-05-31 21:37:56.772757  0.015845 -1.443352 -0.229175  0.369573\n",
       "2022-06-01 21:37:56.772757 -1.828306 -1.934154  0.663870  2.014336\n",
       "2022-06-02 21:37:56.772757 -1.415908  2.529573  1.138684 -1.849138\n",
       "2022-06-03 21:37:56.772757  1.494299 -0.319272  0.903240 -1.116880\n",
       "2022-06-04 21:37:56.772757  1.124868 -0.118072  0.069586 -0.343388\n",
       "2022-06-05 21:37:56.772757  1.361366  0.762107 -0.557225 -0.415394\n",
       "2022-06-06 21:37:56.772757 -0.703724  0.042740 -0.615400  0.204325\n",
       "2022-06-07 21:37:56.772757 -0.081215  1.192819 -1.330317  2.626304\n",
       "2022-06-08 21:37:56.772757 -0.469828  0.277881 -1.617842 -0.853430\n",
       "2022-06-09 21:37:56.772757 -0.660645 -0.167090  1.649540  0.815428\n",
       "2022-06-10 21:37:56.772757 -0.451546 -0.461233  0.142658 -0.027095\n",
       "2022-06-11 21:37:56.772757 -0.012656  0.464202 -1.501534  0.237401\n",
       "2022-06-12 21:37:56.772757  1.582379 -1.587302  1.096129 -0.134603\n",
       "2022-06-13 21:37:56.772757  0.479043  0.293235 -0.983519 -0.699930\n",
       "2022-06-14 21:37:56.772757 -1.436304  1.290000  1.554456 -0.597771\n",
       "2022-06-15 21:37:56.772757  0.804795 -0.272425  0.149370  1.832194\n",
       "2022-06-16 21:37:56.772757  0.416527  0.271607 -0.922461 -0.869743\n",
       "2022-06-17 21:37:56.772757 -1.265856 -0.153023 -1.380393  0.070764\n",
       "2022-06-18 21:37:56.772757  0.041658  1.026048 -1.368549 -0.570182\n",
       "2022-06-19 21:37:56.772757  0.720304 -0.800752 -1.493916 -0.934692\n",
       "2022-06-20 21:37:56.772757  0.398292 -0.557554 -1.106300  1.076208\n",
       "2022-06-21 21:37:56.772757  0.281568  1.116797 -1.290775 -0.297100\n",
       "2022-06-22 21:37:56.772757 -0.539795  2.185802  1.770104  1.137246\n",
       "2022-06-23 21:37:56.772757 -0.248973 -0.972478  1.117994 -0.470676\n",
       "2022-06-24 21:37:56.772757  0.896272 -0.727674 -0.790685 -0.078576"
      ]
     },
     "execution_count": 51,
     "metadata": {},
     "output_type": "execute_result"
    }
   ],
   "source": [
    "df = pd.DataFrame(np.random.randn(50, 4), index = ts.index, columns = ['A','B','C','D'])\n",
    "df"
   ]
  },
  {
   "cell_type": "code",
   "execution_count": 54,
   "id": "d93b4ae0",
   "metadata": {},
   "outputs": [
    {
     "data": {
      "text/plain": [
       "<AxesSubplot:>"
      ]
     },
     "execution_count": 54,
     "metadata": {},
     "output_type": "execute_result"
    },
    {
     "data": {
      "image/png": "[encoded data removed]",
      "text/plain": [
       "<Figure size 432x288 with 1 Axes>"
      ]
     },
     "metadata": {
      "needs_background": "light"
     },
     "output_type": "display_data"
    }
   ],
   "source": [
    "df = df.cumsum()\n",
    "df.plot()"
   ]
  },
  {
   "cell_type": "markdown",
   "id": "d093281d",
   "metadata": {},
   "source": [
    "# Remove repeated data using pandas"
   ]
  },
  {
   "cell_type": "code",
   "execution_count": 56,
   "id": "8bb5a91a",
   "metadata": {},
   "outputs": [
    {
     "data": {
      "text/html": [
       "<div>\n",
       "<style scoped>\n",
       "    .dataframe tbody tr th:only-of-type {\n",
       "        vertical-align: middle;\n",
       "    }\n",
       "\n",
       "    .dataframe tbody tr th {\n",
       "        vertical-align: top;\n",
       "    }\n",
       "\n",
       "    .dataframe thead th {\n",
       "        text-align: right;\n",
       "    }\n",
       "</style>\n",
       "<table border=\"1\" class=\"dataframe\">\n",
       "  <thead>\n",
       "    <tr style=\"text-align: right;\">\n",
       "      <th></th>\n",
       "      <th>A</th>\n",
       "    </tr>\n",
       "  </thead>\n",
       "  <tbody>\n",
       "    <tr>\n",
       "      <th>0</th>\n",
       "      <td>1</td>\n",
       "    </tr>\n",
       "    <tr>\n",
       "      <th>1</th>\n",
       "      <td>2</td>\n",
       "    </tr>\n",
       "    <tr>\n",
       "      <th>4</th>\n",
       "      <td>4</td>\n",
       "    </tr>\n",
       "    <tr>\n",
       "      <th>6</th>\n",
       "      <td>5</td>\n",
       "    </tr>\n",
       "    <tr>\n",
       "      <th>8</th>\n",
       "      <td>6</td>\n",
       "    </tr>\n",
       "    <tr>\n",
       "      <th>10</th>\n",
       "      <td>7</td>\n",
       "    </tr>\n",
       "    <tr>\n",
       "      <th>11</th>\n",
       "      <td>8</td>\n",
       "    </tr>\n",
       "  </tbody>\n",
       "</table>\n",
       "</div>"
      ],
      "text/plain": [
       "    A\n",
       "0   1\n",
       "1   2\n",
       "4   4\n",
       "6   5\n",
       "8   6\n",
       "10  7\n",
       "11  8"
      ]
     },
     "execution_count": 56,
     "metadata": {},
     "output_type": "execute_result"
    }
   ],
   "source": [
    "df = pd.DataFrame({'A':[1, 2, 2, 2, 4, 4,5, 5, 6, 6, 7, 8, 8]})\n",
    "df.loc[df['A'].shift() != df['A']]"
   ]
  },
  {
   "cell_type": "code",
   "execution_count": null,
   "id": "6763e966",
   "metadata": {},
   "outputs": [],
   "source": []
  }
 ],
 "metadata": {
  "kernelspec": {
   "display_name": "Python 3 (ipykernel)",
   "language": "python",
   "name": "python3"
  },
  "language_info": {
   "codemirror_mode": {
    "name": "ipython",
    "version": 3
   },
   "file_extension": ".py",
   "mimetype": "text/x-python",
   "name": "python",
   "nbconvert_exporter": "python",
   "pygments_lexer": "ipython3",
   "version": "3.9.7"
  }
 },
 "nbformat": 4,
 "nbformat_minor": 5
}
